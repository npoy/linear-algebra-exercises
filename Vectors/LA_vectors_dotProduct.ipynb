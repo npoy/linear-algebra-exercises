{
 "cells": [
  {
   "cell_type": "markdown",
   "metadata": {},
   "source": [
    "#     COURSE: Linear algebra: theory and implementation\n",
    "##    SECTION: Vectors\n",
    "###      VIDEO: Vector-vector multiplication: the dot product\n",
    "\n",
    "#### Instructor: sincxpress.com\n",
    "##### Course url: https://www.udemy.com/course/linear-algebra-theory-and-implementation/?couponCode=202110\n",
    "##### Instructions:\n",
    "###### - Create 2 4x6 matrices of random numbers\n",
    "###### - Use a for-loop to compute dot products between corresponding columns"
   ]
  },
  {
   "cell_type": "code",
   "execution_count": 6,
   "metadata": {},
   "outputs": [],
   "source": [
    "import numpy as np\n",
    "import matplotlib.pyplot as plt\n",
    "from mpl_toolkits.mplot3d import Axes3D"
   ]
  },
  {
   "cell_type": "code",
   "execution_count": 7,
   "metadata": {},
   "outputs": [
    {
     "name": "stdout",
     "output_type": "stream",
     "text": [
      "32 32 32 32\n"
     ]
    }
   ],
   "source": [
    "## many ways to compute the dot product\n",
    "\n",
    "v1 = np.array([ 1, 2, 3, 4, 5 ])\n",
    "v2 = np.array([ 0, -4,  -3, 6, 5 ])\n",
    "\n",
    "# method 1\n",
    "dp1 = sum( np.multiply(v1,v2) )\n",
    "\n",
    "# method 2\n",
    "dp2 = np.dot( v1,v2 )\n",
    "\n",
    "# method 3\n",
    "dp3 = np.matmul( v1,v2 )\n",
    "\n",
    "# method 4\n",
    "dp4 = 0  # initialize\n",
    "\n",
    "# loop over elements\n",
    "for i in range(len(v1)):\n",
    "    \n",
    "    # multiply corresponding element and sum\n",
    "    dp4 = dp4 + v1[i]*v2[i]\n",
    "\n",
    "\n",
    "print(dp1,dp2,dp3,dp4)"
   ]
  }
 ],
 "metadata": {
  "kernelspec": {
   "display_name": "Python 3 (ipykernel)",
   "language": "python",
   "name": "python3"
  },
  "language_info": {
   "codemirror_mode": {
    "name": "ipython",
    "version": 3
   },
   "file_extension": ".py",
   "mimetype": "text/x-python",
   "name": "python",
   "nbconvert_exporter": "python",
   "pygments_lexer": "ipython3",
   "version": "3.11.5"
  }
 },
 "nbformat": 4,
 "nbformat_minor": 2
}
