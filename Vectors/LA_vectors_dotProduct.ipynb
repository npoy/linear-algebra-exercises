{
 "cells": [
  {
   "cell_type": "markdown",
   "metadata": {},
   "source": [
    "#     COURSE: Linear algebra: theory and implementation\n",
    "##    SECTION: Vectors\n",
    "###      VIDEO: Vector-vector multiplication: the dot product\n",
    "\n",
    "#### Instructor: sincxpress.com\n",
    "##### Course url: https://www.udemy.com/course/linear-algebra-theory-and-implementation/?couponCode=202110\n",
    "\n",
    "##### Exercise 1:\n",
    "- Create 2 4x6 matrices of random numbers\n",
    "\n",
    "- Use a for-loop to compute dot products between corresponding columns"
   ]
  },
  {
   "cell_type": "code",
   "execution_count": 1,
   "metadata": {},
   "outputs": [],
   "source": [
    "import numpy as np\n",
    "import matplotlib.pyplot as plt\n",
    "from mpl_toolkits.mplot3d import Axes3D"
   ]
  },
  {
   "cell_type": "code",
   "execution_count": 2,
   "metadata": {},
   "outputs": [
    {
     "name": "stdout",
     "output_type": "stream",
     "text": [
      "[[ 0.82229041  0.33659934  1.37247878 -0.73076786 -1.45238683 -0.3666038 ]\n",
      " [ 0.5994848   0.98052968 -0.3476878   2.69224537 -0.80919005 -0.84721641]\n",
      " [ 0.81704926 -0.99723499  0.06962184 -0.1220855  -0.24831272 -0.23856231]\n",
      " [ 0.58530873 -0.58659154 -0.33834085 -0.33344275 -0.65499611 -0.38929425]]\n",
      " \n",
      "[[ 1.34032172e+00 -2.62405085e-01 -8.97916966e-01  1.04603440e+00\n",
      "   1.23684815e-02 -5.52612587e-01]\n",
      " [ 7.17640422e-02 -7.58418833e-01 -1.12689950e+00  1.43492723e+00\n",
      "   2.93373933e-01 -2.28643894e+00]\n",
      " [ 7.39697135e-02 -5.70475005e-01  7.34352179e-02 -1.31557332e-01\n",
      "  -8.21337283e-04 -2.57769478e-01]\n",
      " [ 1.37367020e+00  1.04147551e+00  9.76941556e-01  4.94217945e-01\n",
      "   6.54650578e-01 -7.91484948e-02]]\n",
      " \n",
      "[ 2.00961322 -0.87400064 -1.16598932  2.95003573 -0.68394872  2.2320046 ]\n"
     ]
    }
   ],
   "source": [
    "r = 4\n",
    "c = 6\n",
    "\n",
    "A = np.random.randn(r, c)\n",
    "B = np.random.randn(r, c)\n",
    "\n",
    "print(A)\n",
    "print(' ')\n",
    "print(B)\n",
    "\n",
    "dps = np.zeros(c)\n",
    "for i in range(c):\n",
    "    dps[i] = np.dot(A[:,i], B[:,i])\n",
    "\n",
    "print(' ')\n",
    "print(dps)\n",
    "\n"
   ]
  },
  {
   "cell_type": "markdown",
   "metadata": {},
   "source": [
    "##### Exercise 2:\n",
    "Is the dot product commutative? => a'*b == b'*a\n",
    "\n",
    "1) Generate two 100-element random row vectors, compute dot product a with b, b with a\n",
    "2) Generate two 2-element integer row vectors, repeat"
   ]
  },
  {
   "cell_type": "code",
   "execution_count": 13,
   "metadata": {},
   "outputs": [
    {
     "name": "stdout",
     "output_type": "stream",
     "text": [
      "4.387879867170115 4.387879867170115 0.0\n",
      "26 26\n"
     ]
    }
   ],
   "source": [
    "r = 100\n",
    "a = np.random.randn(r)\n",
    "b = np.random.randn(r)\n",
    "\n",
    "dp_ab = np.dot(a, b)\n",
    "dp_ba = np.dot(b, a)\n",
    "\n",
    "print(dp_ab, dp_ba, dp_ab - dp_ba)\n",
    "\n",
    "v = [2,4]\n",
    "w = [3,5]\n",
    "print(np.dot(v,w), np.dot(w,v))"
   ]
  }
 ],
 "metadata": {
  "kernelspec": {
   "display_name": "Python 3 (ipykernel)",
   "language": "python",
   "name": "python3"
  },
  "language_info": {
   "codemirror_mode": {
    "name": "ipython",
    "version": 3
   },
   "file_extension": ".py",
   "mimetype": "text/x-python",
   "name": "python",
   "nbconvert_exporter": "python",
   "pygments_lexer": "ipython3",
   "version": "3.11.5"
  }
 },
 "nbformat": 4,
 "nbformat_minor": 2
}
