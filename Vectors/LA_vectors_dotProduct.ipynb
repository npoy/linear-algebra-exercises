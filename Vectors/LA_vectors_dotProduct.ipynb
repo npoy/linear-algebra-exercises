{
 "cells": [
  {
   "cell_type": "markdown",
   "metadata": {},
   "source": [
    "#     COURSE: Linear algebra: theory and implementation\n",
    "##    SECTION: Vectors\n",
    "###      VIDEO: Vector-vector multiplication: the dot product\n",
    "\n",
    "#### Instructor: sincxpress.com\n",
    "##### Course url: https://www.udemy.com/course/linear-algebra-theory-and-implementation/?couponCode=202110\n",
    "\n",
    "##### Exercise 1:\n",
    "- Create 2 4x6 matrices of random numbers\n",
    "\n",
    "- Use a for-loop to compute dot products between corresponding columns"
   ]
  },
  {
   "cell_type": "code",
   "execution_count": null,
   "metadata": {},
   "outputs": [],
   "source": [
    "import numpy as np\n",
    "import matplotlib.pyplot as plt\n",
    "from mpl_toolkits.mplot3d import Axes3D"
   ]
  },
  {
   "cell_type": "code",
   "execution_count": null,
   "metadata": {},
   "outputs": [],
   "source": [
    "r = 4\n",
    "c = 6\n",
    "\n",
    "A = np.random.randn(r, c)\n",
    "B = np.random.randn(r, c)\n",
    "\n",
    "print(A)\n",
    "print(' ')\n",
    "print(B)\n",
    "\n",
    "dps = np.zeros(c)\n",
    "for i in range(c):\n",
    "    dps[i] = np.dot(A[:,i], B[:,i])\n",
    "\n",
    "print(' ')\n",
    "print(dps)\n",
    "\n"
   ]
  },
  {
   "cell_type": "markdown",
   "metadata": {},
   "source": [
    "##### Exercise 2:\n",
    "Is the dot product commutative? => a'*b == b'*a\n",
    "\n",
    "1) Generate two 100-element random row vectors, compute dot product a with b, b with a\n",
    "2) Generate two 2-element integer row vectors, repeat"
   ]
  },
  {
   "cell_type": "code",
   "execution_count": null,
   "metadata": {},
   "outputs": [],
   "source": []
  }
 ],
 "metadata": {
  "kernelspec": {
   "display_name": "Python 3 (ipykernel)",
   "language": "python",
   "name": "python3"
  },
  "language_info": {
   "codemirror_mode": {
    "name": "ipython",
    "version": 3
   },
   "file_extension": ".py",
   "mimetype": "text/x-python",
   "name": "python",
   "nbconvert_exporter": "python",
   "pygments_lexer": "ipython3",
   "version": "3.11.5"
  }
 },
 "nbformat": 4,
 "nbformat_minor": 2
}
