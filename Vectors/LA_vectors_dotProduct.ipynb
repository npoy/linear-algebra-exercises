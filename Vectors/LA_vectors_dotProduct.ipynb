{
 "cells": [
  {
   "cell_type": "markdown",
   "metadata": {},
   "source": [
    "#     COURSE: Linear algebra: theory and implementation\n",
    "##    SECTION: Vectors\n",
    "###      VIDEO: Vector-vector multiplication: the dot product\n",
    "\n",
    "#### Instructor: sincxpress.com\n",
    "##### Course url: https://www.udemy.com/course/linear-algebra-theory-and-implementation/?couponCode=202110\n",
    "##### Instructions:\n",
    "###### - Create 2 4x6 matrices of random numbers\n",
    "###### - Use a for-loop to compute dot products between corresponding columns"
   ]
  },
  {
   "cell_type": "code",
   "execution_count": 12,
   "metadata": {},
   "outputs": [],
   "source": [
    "import numpy as np\n",
    "import matplotlib.pyplot as plt\n",
    "from mpl_toolkits.mplot3d import Axes3D"
   ]
  },
  {
   "cell_type": "code",
   "execution_count": 13,
   "metadata": {},
   "outputs": [
    {
     "name": "stdout",
     "output_type": "stream",
     "text": [
      "[[-0.7281419  -0.57638349 -0.98363459  0.86661717  0.42515192 -1.75553725]\n",
      " [ 0.78257122  1.93807084  0.41276506  0.93146125 -0.81467506  1.33238496]\n",
      " [ 1.75931212 -0.67697756 -0.40746239  0.44561996  0.29828599  0.13162675]\n",
      " [ 1.18173351  1.11452087 -0.03441604  0.46115666  0.43087325  0.47915947]]\n",
      " \n",
      "[[-0.16755685  0.3127407   0.31161266 -0.15975155  0.36736165 -0.40976573]\n",
      " [-0.08553138  1.49952375  0.0194087  -0.42533313 -0.00306727 -0.0775611 ]\n",
      " [-0.03800171 -0.08838487  0.20981145  0.37173053 -1.15346177 -0.24193939]\n",
      " [ 0.08617046 -1.50725807 -0.93433371  0.2820809   0.02901762  1.27271732]]\n",
      " \n",
      "[ 0.09004442  1.10588868 -0.35183597 -0.23889074 -0.17287524  1.19400662]\n"
     ]
    }
   ],
   "source": [
    "r = 4\n",
    "c = 6\n",
    "\n",
    "A = np.random.randn(r, c)\n",
    "B = np.random.randn(r, c)\n",
    "\n",
    "print(A)\n",
    "print(' ')\n",
    "print(B)\n",
    "\n",
    "dps = np.zeros(c)\n",
    "for i in range(c):\n",
    "    dps[i] = np.dot(A[:,i], B[:,i])\n",
    "\n",
    "print(' ')\n",
    "print(dps)\n",
    "\n"
   ]
  }
 ],
 "metadata": {
  "kernelspec": {
   "display_name": "Python 3 (ipykernel)",
   "language": "python",
   "name": "python3"
  },
  "language_info": {
   "codemirror_mode": {
    "name": "ipython",
    "version": 3
   },
   "file_extension": ".py",
   "mimetype": "text/x-python",
   "name": "python",
   "nbconvert_exporter": "python",
   "pygments_lexer": "ipython3",
   "version": "3.11.5"
  }
 },
 "nbformat": 4,
 "nbformat_minor": 2
}
