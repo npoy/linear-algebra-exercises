{
 "cells": [
  {
   "cell_type": "markdown",
   "metadata": {},
   "source": [
    "#     COURSE: Linear algebra: theory and implementation\n",
    "##    SECTION: Matrices\n",
    "###      TOPIC: Symmetric Matrices"
   ]
  },
  {
   "cell_type": "markdown",
   "metadata": {},
   "source": [
    "##### Exercise 1 (Video: Code Challenge: Symmetry of combined symmetric matrices):\n",
    "\n",
    "- Generate 2 symmetric matrices\n",
    "- Compute sum, multiplication and Hadamard multiplication of the two matrices\n",
    "- Determine whether the result is still symmetric"
   ]
  },
  {
   "cell_type": "code",
   "execution_count": 5,
   "metadata": {},
   "outputs": [],
   "source": [
    "import numpy as np"
   ]
  },
  {
   "cell_type": "code",
   "execution_count": 6,
   "metadata": {},
   "outputs": [
    {
     "name": "stdout",
     "output_type": "stream",
     "text": [
      "[[0. 0. 0.]\n",
      " [0. 0. 0.]\n",
      " [0. 0. 0.]]\n",
      " \n",
      "[[  0.           3.98513334  -1.26548899]\n",
      " [ -3.98513334   0.         -12.68234078]\n",
      " [  1.26548899  12.68234078   0.        ]]\n",
      " \n",
      "[[0. 0. 0.]\n",
      " [0. 0. 0.]\n",
      " [0. 0. 0.]]\n"
     ]
    }
   ],
   "source": [
    "m = 3\n",
    "A = np.random.randn(m,m)\n",
    "AtA = A.T@A\n",
    "\n",
    "B = np.random.randn(m,m)\n",
    "BtB = B.T@B\n",
    "\n",
    "# compute sum, multiplication and Hadamard multiplication\n",
    "Cs = AtA + BtB # sum\n",
    "Cm = AtA @ BtB # multiplication\n",
    "Ch = AtA * BtB # Hadamard\n",
    "\n",
    "# determine whether result is symmetric\n",
    "print(Cs-Cs.T), print(' ')\n",
    "print(Cm-Cm.T), print(' ')\n",
    "print(Ch-Ch.T)"
   ]
  },
  {
   "cell_type": "code",
   "execution_count": null,
   "metadata": {},
   "outputs": [],
   "source": []
  }
 ],
 "metadata": {
  "kernelspec": {
   "display_name": "Python 3 (ipykernel)",
   "language": "python",
   "name": "python3"
  },
  "language_info": {
   "codemirror_mode": {
    "name": "ipython",
    "version": 3
   },
   "file_extension": ".py",
   "mimetype": "text/x-python",
   "name": "python",
   "nbconvert_exporter": "python",
   "pygments_lexer": "ipython3",
   "version": "3.11.5"
  }
 },
 "nbformat": 4,
 "nbformat_minor": 2
}
