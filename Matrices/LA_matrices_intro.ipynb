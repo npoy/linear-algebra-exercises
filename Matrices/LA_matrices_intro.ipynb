{
 "cells": [
  {
   "cell_type": "markdown",
   "metadata": {},
   "source": [
    "#     COURSE: Linear algebra: theory and implementation\n",
    "##    SECTION: Matrices\n",
    "###      TOPIC: Matrix arithmetic operations"
   ]
  },
  {
   "cell_type": "markdown",
   "metadata": {},
   "source": [
    "##### Exercise 1 (Video: Is matrix-scalar multiplication a linear operation?):\n",
    "\n",
    "- Is matrix-scalar multiplication a linear operation?\n",
    "- Test for some random MxN matrices whether s(A+B) = sA + sB"
   ]
  },
  {
   "cell_type": "code",
   "execution_count": 3,
   "metadata": {},
   "outputs": [],
   "source": [
    "import numpy as np"
   ]
  },
  {
   "cell_type": "code",
   "execution_count": null,
   "metadata": {},
   "outputs": [],
   "source": [
    "# Matrix sizes\n",
    "m = 7\n",
    "n = 5\n",
    "\n",
    "# Create two matrices\n",
    "A = np.random.randn(m,n)\n",
    "B = np.random.randn(m,n)\n",
    "\n",
    "# Scalar\n",
    "s = np.random.randn()\n",
    "\n",
    "resL = s * (A+B)\n",
    "resR = s*A + s*B\n",
    "\n",
    "print(resL), print(' ')\n",
    "print(resR), print(' ')\n",
    "\n",
    "print(resL - resR)\n"
   ]
  },
  {
   "cell_type": "markdown",
   "metadata": {},
   "source": [
    "##### Exercise 2 (Video: Linearity of trace):\n",
    "\n",
    "- Determine the relationship between tr(A)+tr(B) and tr(A+B)\n",
    "- Determine the relationship between tr(1 * A) and 1 * tr(A)"
   ]
  },
  {
   "cell_type": "code",
   "execution_count": 19,
   "metadata": {},
   "outputs": [
    {
     "name": "stdout",
     "output_type": "stream",
     "text": [
      "Point: 1\n",
      "tr(A)+tr(B) = 0.558251724448644\n",
      "tr(A+B) = 0.5582517244486436\n",
      " \n",
      "Point: 2\n",
      "tr(1*A) = 0.2632268230512169\n",
      "1*tr(A) = 0.263226823051217\n"
     ]
    }
   ],
   "source": [
    "# Matrix sizes\n",
    "m = 7\n",
    "n = 5\n",
    "\n",
    "# Create two matrices\n",
    "A = np.random.randn(m,n)\n",
    "B = np.random.randn(m,n)\n",
    "\n",
    "# Scalar\n",
    "s = np.random.randn()\n",
    "\n",
    "print('Point: 1') # 1\n",
    "trace_a = np.trace(A)\n",
    "trace_b = np.trace(B)\n",
    "trace_ab = np.trace(A+B)\n",
    "\n",
    "resL = trace_a + trace_b\n",
    "resR = trace_ab\n",
    "\n",
    "print('tr(A)+tr(B) = ' + str(resL))\n",
    "print('tr(A+B) = ' + str(resR))\n",
    "\n",
    "print(' ')\n",
    "print('Point: 2') # 2\n",
    "trace_a = np.trace(s*A)\n",
    "trace_a_2 = s*np.trace(A)\n",
    "\n",
    "print('tr(1*A) = ' + str(trace_a))\n",
    "print('1*tr(A) = ' + str(trace_a_2))\n"
   ]
  }
 ],
 "metadata": {
  "kernelspec": {
   "display_name": "Python 3 (ipykernel)",
   "language": "python",
   "name": "python3"
  },
  "language_info": {
   "codemirror_mode": {
    "name": "ipython",
    "version": 3
   },
   "file_extension": ".py",
   "mimetype": "text/x-python",
   "name": "python",
   "nbconvert_exporter": "python",
   "pygments_lexer": "ipython3",
   "version": "3.11.5"
  }
 },
 "nbformat": 4,
 "nbformat_minor": 2
}
