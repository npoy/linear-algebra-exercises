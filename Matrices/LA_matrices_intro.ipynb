{
 "cells": [
  {
   "cell_type": "markdown",
   "metadata": {},
   "source": [
    "#     COURSE: Linear algebra: theory and implementation\n",
    "##    SECTION: Matrices\n",
    "###      TOPIC: Matrix arithmetic operations"
   ]
  },
  {
   "cell_type": "markdown",
   "metadata": {},
   "source": [
    "##### Exercise 1 (Video: Is matrix-scalar multiplication a linear operation?):\n",
    "\n",
    "- Is matrix-scalar multiplication a linear operation?\n",
    "\n",
    "- Test for some random MxN matrices whether s(A+B) = sA + sB"
   ]
  },
  {
   "cell_type": "code",
   "execution_count": 5,
   "metadata": {},
   "outputs": [],
   "source": [
    "import numpy as np"
   ]
  },
  {
   "cell_type": "code",
   "execution_count": 8,
   "metadata": {},
   "outputs": [
    {
     "name": "stdout",
     "output_type": "stream",
     "text": [
      "[[ 1.13139629  0.87521853  0.19844683 -0.24700383 -1.01365139]\n",
      " [-0.73369202  0.41657296 -0.09403046 -0.40762514  1.35933726]\n",
      " [-0.1224162   0.18711034 -0.84161191  0.33810389  1.11872068]\n",
      " [ 0.48839151  0.24137952  1.75460102  0.2158758   0.17416237]\n",
      " [-0.1068029   1.02374892  1.40732982  1.51437865  0.73588785]\n",
      " [-0.90417529  0.67175536 -1.23343956  0.3436519   0.93329995]\n",
      " [ 0.10898569 -0.32616531  2.65875789  2.14480907 -0.69954766]]\n",
      " \n",
      "[[ 1.13139629  0.87521853  0.19844683 -0.24700383 -1.01365139]\n",
      " [-0.73369202  0.41657296 -0.09403046 -0.40762514  1.35933726]\n",
      " [-0.1224162   0.18711034 -0.84161191  0.33810389  1.11872068]\n",
      " [ 0.48839151  0.24137952  1.75460102  0.2158758   0.17416237]\n",
      " [-0.1068029   1.02374892  1.40732982  1.51437865  0.73588785]\n",
      " [-0.90417529  0.67175536 -1.23343956  0.3436519   0.93329995]\n",
      " [ 0.10898569 -0.32616531  2.65875789  2.14480907 -0.69954766]]\n",
      " \n",
      "[[-2.22044605e-16  0.00000000e+00 -2.77555756e-17  0.00000000e+00\n",
      "   0.00000000e+00]\n",
      " [ 0.00000000e+00  0.00000000e+00  0.00000000e+00  5.55111512e-17\n",
      "   0.00000000e+00]\n",
      " [-5.55111512e-17  0.00000000e+00  0.00000000e+00  0.00000000e+00\n",
      "  -2.22044605e-16]\n",
      " [ 0.00000000e+00  0.00000000e+00 -2.22044605e-16 -2.77555756e-17\n",
      "   0.00000000e+00]\n",
      " [ 5.55111512e-17  0.00000000e+00  0.00000000e+00 -2.22044605e-16\n",
      "  -2.22044605e-16]\n",
      " [-1.11022302e-16  0.00000000e+00  0.00000000e+00 -5.55111512e-17\n",
      "   0.00000000e+00]\n",
      " [-5.55111512e-17  0.00000000e+00  0.00000000e+00  0.00000000e+00\n",
      "   1.11022302e-16]]\n"
     ]
    }
   ],
   "source": [
    "# Matrix sizes\n",
    "m = 7\n",
    "n = 5\n",
    "\n",
    "# Create two matrices\n",
    "A = np.random.randn(m,n)\n",
    "B = np.random.randn(m,n)\n",
    "\n",
    "# Scalar\n",
    "s = np.random.randn()\n",
    "\n",
    "resL = s * (A+B)\n",
    "resR = s*A + s*B\n",
    "\n",
    "print(resL), print(' ')\n",
    "print(resR), print(' ')\n",
    "\n",
    "print(resL - resR)\n"
   ]
  }
 ],
 "metadata": {
  "kernelspec": {
   "display_name": "Python 3 (ipykernel)",
   "language": "python",
   "name": "python3"
  },
  "language_info": {
   "codemirror_mode": {
    "name": "ipython",
    "version": 3
   },
   "file_extension": ".py",
   "mimetype": "text/x-python",
   "name": "python",
   "nbconvert_exporter": "python",
   "pygments_lexer": "ipython3",
   "version": "3.11.5"
  }
 },
 "nbformat": 4,
 "nbformat_minor": 2
}
