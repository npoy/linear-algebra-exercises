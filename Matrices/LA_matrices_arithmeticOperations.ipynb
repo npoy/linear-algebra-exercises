{
 "cells": [
  {
   "cell_type": "markdown",
   "metadata": {},
   "source": [
    "#     COURSE: Linear algebra: theory and implementation\n",
    "##    SECTION: Matrices\n",
    "###      TOPIC: Matrix arithmetic operations"
   ]
  },
  {
   "cell_type": "markdown",
   "metadata": {},
   "source": [
    "##### Exercise 1 (Video: Is matrix-scalar multiplication a linear operation?):\n",
    "\n",
    "- Is matrix-scalar multiplication a linear operation?\n",
    "\n",
    "- Test for some random MxN matrices whether s(A+B) = sA * sB"
   ]
  }
 ],
 "metadata": {
  "kernelspec": {
   "display_name": "Python 3 (ipykernel)",
   "language": "python",
   "name": "python3"
  }
 },
 "nbformat": 4,
 "nbformat_minor": 2
}
