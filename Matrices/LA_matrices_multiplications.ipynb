{
 "cells": [
  {
   "cell_type": "markdown",
   "metadata": {},
   "source": [
    "#     COURSE: Linear algebra: theory and implementation\n",
    "##    SECTION: Matrices\n",
    "###      TOPIC: Matrix multiplications"
   ]
  },
  {
   "cell_type": "markdown",
   "metadata": {},
   "source": [
    "##### Exercise 1 (Video: Code Challenge: Matrix muiltiplication by layering):\n",
    "\n",
    "- Implement matrix multiplication via layers\n",
    "- Generate two matrices (A, B)\n",
    "- Build the product matrix layer-wise (for-loop)\n",
    "- Implement the matrix multiplication directly\n",
    "- Compare the results"
   ]
  },
  {
   "cell_type": "code",
   "execution_count": 48,
   "metadata": {},
   "outputs": [],
   "source": [
    "import numpy as np"
   ]
  },
  {
   "cell_type": "code",
   "execution_count": 49,
   "metadata": {},
   "outputs": [
    {
     "data": {
      "text/plain": [
       "array([[ 0.00000000e+00,  0.00000000e+00,  0.00000000e+00,\n",
       "        -1.11022302e-16],\n",
       "       [ 0.00000000e+00,  2.22044605e-16,  4.44089210e-16,\n",
       "        -2.77555756e-16],\n",
       "       [ 2.22044605e-16,  0.00000000e+00,  4.44089210e-16,\n",
       "         0.00000000e+00],\n",
       "       [ 0.00000000e+00, -2.22044605e-16,  8.88178420e-16,\n",
       "         0.00000000e+00]])"
      ]
     },
     "execution_count": 49,
     "metadata": {},
     "output_type": "execute_result"
    }
   ],
   "source": [
    "# Matrix sizes\n",
    "m = 4\n",
    "n = 6\n",
    "\n",
    "# Create two matrices\n",
    "A = np.random.randn(m,n)\n",
    "B = np.random.randn(n,m)\n",
    "\n",
    "# print(A[1,:])\n",
    "# print(B[:,1])\n",
    "\n",
    "# Build the product matrix layer-wise\n",
    "C1 = np.zeros((m,m))\n",
    "for i in range(n):\n",
    "    C1 += np.outer(A[:,i], B[i,:])\n",
    "\n",
    "# Implement matrix multiplication\n",
    "C2 = A@B\n",
    "\n",
    "# Compare the results\n",
    "C1 - C2\n"
   ]
  }
 ],
 "metadata": {
  "kernelspec": {
   "display_name": "Python 3 (ipykernel)",
   "language": "python",
   "name": "python3"
  },
  "language_info": {
   "codemirror_mode": {
    "name": "ipython",
    "version": 3
   },
   "file_extension": ".py",
   "mimetype": "text/x-python",
   "name": "python",
   "nbconvert_exporter": "python",
   "pygments_lexer": "ipython3",
   "version": "3.11.5"
  }
 },
 "nbformat": 4,
 "nbformat_minor": 2
}
