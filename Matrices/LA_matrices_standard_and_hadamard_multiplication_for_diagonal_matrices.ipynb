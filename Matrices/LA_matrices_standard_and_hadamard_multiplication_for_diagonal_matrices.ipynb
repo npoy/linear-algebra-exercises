{
 "cells": [
  {
   "cell_type": "markdown",
   "metadata": {},
   "source": [
    "#     COURSE: Linear algebra: theory and implementation\n",
    "##    SECTION: Matrices\n",
    "###      TOPIC: Symmetric Matrices"
   ]
  },
  {
   "cell_type": "markdown",
   "metadata": {},
   "source": [
    "##### Exercise 1 (Video: Code Challenge: Standard and Hadamard multiplication for diagonal matrices):\n",
    "\n",
    "- Generate 2 matrices (4x4): \"full\" and diagonal\n",
    "- Multiply each matrix by itself (A*A): Standard and Hadamard multiplications"
   ]
  },
  {
   "cell_type": "code",
   "execution_count": 2,
   "metadata": {},
   "outputs": [],
   "source": [
    "import numpy as np"
   ]
  },
  {
   "cell_type": "code",
   "execution_count": 4,
   "metadata": {},
   "outputs": [
    {
     "name": "stdout",
     "output_type": "stream",
     "text": [
      "[[-0.75273818 -0.88562655  2.48527306 -0.28297224]\n",
      " [ 2.23072015  1.89914004 -2.0321379   1.68813625]\n",
      " [-0.91881986 -0.29739105 -0.12014941 -2.7274723 ]\n",
      " [-2.47201855 -1.57141105  2.03901992 -1.53037734]]\n",
      " \n",
      "[[0.08300187 0.68216446 0.11624851 0.62963674]\n",
      " [0.0449456  0.70952253 1.7670751  0.00533738]\n",
      " [2.55275648 1.06481832 0.67928406 1.1478408 ]\n",
      " [0.02132974 0.00918325 2.30448459 0.21891288]]\n",
      " \n",
      "[[0.33384733 0.         0.         0.        ]\n",
      " [0.         0.1485152  0.         0.        ]\n",
      " [0.         0.         2.89933358 0.        ]\n",
      " [0.         0.         0.         1.29698292]]\n",
      " \n",
      "[[0.33384733 0.         0.         0.        ]\n",
      " [0.         0.1485152  0.         0.        ]\n",
      " [0.         0.         2.89933358 0.        ]\n",
      " [0.         0.         0.         1.29698292]]\n",
      " \n"
     ]
    },
    {
     "data": {
      "text/plain": [
       "(None, None)"
      ]
     },
     "execution_count": 4,
     "metadata": {},
     "output_type": "execute_result"
    }
   ],
   "source": [
    "# create two square matrices: \"full\" and diagonal\n",
    "m = 4\n",
    "A = np.random.randn(m,m)\n",
    "D = np.diag(np.random.randn(m))\n",
    "\n",
    "# multiply each matrix by itself: Standard and Hadamard\n",
    "print(A@A), print(' ')\n",
    "print(A*A), print(' ')\n",
    "\n",
    "print(D@D), print(' ')\n",
    "print(D*D), print(' ')"
   ]
  }
 ],
 "metadata": {
  "kernelspec": {
   "display_name": "Python 3 (ipykernel)",
   "language": "python",
   "name": "python3"
  },
  "language_info": {
   "codemirror_mode": {
    "name": "ipython",
    "version": 3
   },
   "file_extension": ".py",
   "mimetype": "text/x-python",
   "name": "python",
   "nbconvert_exporter": "python",
   "pygments_lexer": "ipython3",
   "version": "3.11.5"
  }
 },
 "nbformat": 4,
 "nbformat_minor": 2
}
