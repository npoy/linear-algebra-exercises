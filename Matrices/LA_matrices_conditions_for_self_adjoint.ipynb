{
 "cells": [
  {
   "cell_type": "markdown",
   "metadata": {},
   "source": [
    "#     COURSE: Linear algebra: theory and implementation\n",
    "##    SECTION: Matrices\n",
    "###      TOPIC: Matrix multiplication"
   ]
  },
  {
   "cell_type": "markdown",
   "metadata": {},
   "source": [
    "##### Exercise 1 (Video: Code Challenge: Conditions for self-adjoint):\n",
    "\n",
    "1. List 2-3 conditions for this equality to hold\n",
    "2. Prove the equality when those conditions are met\n",
    "3. Illustrate the code\n",
    "\n",
    "Conditions:\n",
    "1. A is square (mxn)\n",
    "2. A is symmetric\n",
    "3. v and w are the same size (mx1)"
   ]
  },
  {
   "cell_type": "code",
   "execution_count": 5,
   "metadata": {},
   "outputs": [
    {
     "data": {
      "text/plain": [
       "0.0"
      ]
     },
     "execution_count": 5,
     "metadata": {},
     "output_type": "execute_result"
    }
   ],
   "source": [
    "import numpy as np\n",
    "\n",
    "m = 5\n",
    "\n",
    "A = np.random.randn(m,m)\n",
    "A = A@A.T\n",
    "\n",
    "v = np.random.randn(m)\n",
    "w = np.random.rand(m)\n",
    "\n",
    "np.dot(A@v, w) - np.dot(v, A@w)\n"
   ]
  }
 ],
 "metadata": {
  "kernelspec": {
   "display_name": "Python 3 (ipykernel)",
   "language": "python",
   "name": "python3"
  },
  "language_info": {
   "codemirror_mode": {
    "name": "ipython",
    "version": 3
   },
   "file_extension": ".py",
   "mimetype": "text/x-python",
   "name": "python",
   "nbconvert_exporter": "python",
   "pygments_lexer": "ipython3",
   "version": "3.11.5"
  }
 },
 "nbformat": 4,
 "nbformat_minor": 2
}
