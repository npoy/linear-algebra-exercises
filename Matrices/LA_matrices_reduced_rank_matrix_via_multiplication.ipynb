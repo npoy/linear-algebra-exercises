{
 "cells": [
  {
   "cell_type": "markdown",
   "metadata": {},
   "source": [
    "#     COURSE: Linear algebra: theory and implementation\n",
    "##    SECTION: Matrices\n",
    "###      TOPIC: Matrix multiplication"
   ]
  },
  {
   "cell_type": "markdown",
   "metadata": {},
   "source": [
    "##### Exercise 1 (Video: Code Challenge: Reduced-rank matrix via multiplication):\n",
    "\n",
    "1. Create a 10x10 matrix with rank=4 (use matrix multiplication)\n",
    "2. Generalize the procedure to create any MxN matrix with rank r"
   ]
  },
  {
   "cell_type": "code",
   "execution_count": 5,
   "metadata": {},
   "outputs": [
    {
     "data": {
      "text/plain": [
       "0.0"
      ]
     },
     "execution_count": 5,
     "metadata": {},
     "output_type": "execute_result"
    }
   ],
   "source": [
    "import numpy as np\n",
    "\n",
    "# use matrix multiplication to create a 10x10 rank-4 matrix\n",
    "A = np.random.randn(10,4)\n",
    "B = np.random.randn(4,10)\n",
    "C = A@B\n",
    "print(np.shape(C))\n",
    "print(np.linalg.matrix_rank(C))\n",
    "\n",
    "# generalize to mxn rank-r\n",
    "m = 8\n",
    "n = 47\n",
    "r = 3\n",
    "\n",
    "A = np.random.randn(m,r) @ np.random.randn(r,n)\n",
    "print(np.shape(A))\n",
    "print(np.linalg.matrix_rank(A))"
   ]
  },
  {
   "cell_type": "code",
   "execution_count": null,
   "metadata": {},
   "outputs": [],
   "source": []
  }
 ],
 "metadata": {
  "kernelspec": {
   "display_name": "Python 3 (ipykernel)",
   "language": "python",
   "name": "python3"
  }
 },
 "nbformat": 4,
 "nbformat_minor": 2
}
